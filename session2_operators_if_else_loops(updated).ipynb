{
  "nbformat": 4,
  "nbformat_minor": 0,
  "metadata": {
    "colab": {
      "provenance": []
    },
    "kernelspec": {
      "name": "python3",
      "display_name": "Python 3"
    },
    "language_info": {
      "name": "python"
    }
  },
  "cells": [
    {
      "cell_type": "markdown",
      "source": [
        "## Operators in Python\n",
        "\n",
        "- Arithmetic Operators\n",
        "- Relational Operators\n",
        "- Logical Operators\n",
        "- Bitwise Operators\n",
        "- Assignment Operators\n",
        "- Membership Operators"
      ],
      "metadata": {
        "id": "y1HMD4oI7FL7"
      }
    },
    {
      "cell_type": "code",
      "source": [
        "# Arithmetric Operators\n",
        "print(5+6)\n",
        "\n",
        "print(5-6)\n",
        "\n",
        "print(5*6)\n",
        "\n",
        "print(5/2)\n",
        "\n",
        "print(5//2)\n",
        "\n",
        "print(5%2)\n",
        "\n",
        "print(5**2)"
      ],
      "metadata": {
        "id": "a7cegk-f7U4-",
        "colab": {
          "base_uri": "https://localhost:8080/"
        },
        "outputId": "77490d0d-316e-4611-9cd7-8c99e64fca2a"
      },
      "execution_count": null,
      "outputs": [
        {
          "output_type": "stream",
          "name": "stdout",
          "text": [
            "11\n",
            "-1\n",
            "30\n",
            "2.5\n",
            "2\n",
            "1\n",
            "25\n"
          ]
        }
      ]
    },
    {
      "cell_type": "code",
      "source": [
        "# Relational Operators\n",
        "print(4>5)\n",
        "\n",
        "print(4<5)\n",
        "\n",
        "print(4>=4)\n",
        "\n",
        "print(4<=4)\n",
        "\n",
        "print(4==4)\n",
        "\n",
        "print(4!=4)"
      ],
      "metadata": {
        "id": "TMIQKhFd7Y5A",
        "colab": {
          "base_uri": "https://localhost:8080/"
        },
        "outputId": "573867e9-962a-45a6-a313-dcaa8b9a6406"
      },
      "execution_count": null,
      "outputs": [
        {
          "output_type": "stream",
          "name": "stdout",
          "text": [
            "False\n",
            "True\n",
            "True\n",
            "True\n",
            "True\n",
            "False\n"
          ]
        }
      ]
    },
    {
      "cell_type": "code",
      "source": [
        "# Logical Operators\n",
        "print(1 and 0)\n",
        "\n",
        "print(1 or 0)\n",
        "\n",
        "print(not 1)"
      ],
      "metadata": {
        "id": "vyxdjDbc7avq",
        "colab": {
          "base_uri": "https://localhost:8080/"
        },
        "outputId": "4c6a1710-fea3-466c-f6b2-f98de20a2a0b"
      },
      "execution_count": null,
      "outputs": [
        {
          "output_type": "stream",
          "name": "stdout",
          "text": [
            "0\n",
            "1\n",
            "False\n"
          ]
        }
      ]
    },
    {
      "cell_type": "code",
      "source": [
        "# Bitwise Operators\n",
        "\n",
        "# bitwise and\n",
        "print(2 & 3)\n",
        "\n",
        "# bitwise or\n",
        "print(2 | 3)\n",
        "\n",
        "# bitwise xor\n",
        "print(2 ^ 3)\n",
        "\n",
        "print(~3)\n",
        "\n",
        "print(4 >> 2)\n",
        "\n",
        "print(5 << 2)"
      ],
      "metadata": {
        "id": "H4KzpSke7d9l",
        "colab": {
          "base_uri": "https://localhost:8080/"
        },
        "outputId": "5832a648-6430-425c-8fa7-8dbad5d8d4b3"
      },
      "execution_count": null,
      "outputs": [
        {
          "output_type": "stream",
          "name": "stdout",
          "text": [
            "2\n",
            "3\n",
            "1\n",
            "-4\n",
            "1\n",
            "20\n"
          ]
        }
      ]
    },
    {
      "cell_type": "code",
      "source": [
        "# Assignment Operators\n",
        "\n",
        "# =\n",
        "# a = 2\n",
        "\n",
        "a = 2\n",
        "\n",
        "# a = a % 2\n",
        "a %= 2\n",
        "\n",
        "# a++ ++a\n",
        "\n",
        "print(a)"
      ],
      "metadata": {
        "id": "8EEm8eHO7gD_",
        "colab": {
          "base_uri": "https://localhost:8080/"
        },
        "outputId": "a421f118-2ee3-42da-91ff-3cd06de41755"
      },
      "execution_count": null,
      "outputs": [
        {
          "output_type": "stream",
          "name": "stdout",
          "text": [
            "4\n"
          ]
        }
      ]
    },
    {
      "cell_type": "code",
      "source": [
        "# Membership Operators\n",
        "\n",
        "# in/not in\n",
        "\n",
        "print('D' not in 'Delhi')\n",
        "\n",
        "print(1 in [2,3,4,5,6])"
      ],
      "metadata": {
        "id": "LzrIz7I87h-W",
        "colab": {
          "base_uri": "https://localhost:8080/"
        },
        "outputId": "d362a8a0-bbae-406f-bd33-fc6fe789e889"
      },
      "execution_count": null,
      "outputs": [
        {
          "output_type": "stream",
          "name": "stdout",
          "text": [
            "False\n",
            "False\n"
          ]
        }
      ]
    },
    {
      "cell_type": "code",
      "source": [
        "# Program - Find the sum of a 3 digit number entered by the user\n",
        "\n",
        "number = int(input('Enter a 3 digit number'))\n",
        "\n",
        "# 345%10 -> 5\n",
        "a = number%10\n",
        "\n",
        "number = number//10\n",
        "\n",
        "# 34%10 -> 4\n",
        "b = number % 10\n",
        "\n",
        "number = number//10\n",
        "# 3 % 10 -> 3\n",
        "c = number % 10\n",
        "\n",
        "print(a + b + c)"
      ],
      "metadata": {
        "id": "C-LoVrYGDEuB",
        "colab": {
          "base_uri": "https://localhost:8080/"
        },
        "outputId": "5842d198-7b4f-4785-cec7-5735603ab873"
      },
      "execution_count": null,
      "outputs": [
        {
          "output_type": "stream",
          "name": "stdout",
          "text": [
            "Enter a 3 digit number666\n",
            "18\n"
          ]
        }
      ]
    },
    {
      "cell_type": "markdown",
      "source": [
        "## If-else in Python"
      ],
      "metadata": {
        "id": "Iq7CzVFs7mWT"
      }
    },
    {
      "cell_type": "code",
      "source": [
        "# login program and indentation\n",
        "# email -> shubh@gmail.com\n",
        "# password -> 1234\n",
        "\n",
        "email = input('enter email')\n",
        "password = input('enter password')\n",
        "\n",
        "if email == 'shubh@gmail.com' and password == '1234':\n",
        "  print('Welcome')\n",
        "elif email == 'shubh@gmail.com' and password != '1234':\n",
        "  # tell the user\n",
        "  print('Incorrect password')\n",
        "  password = input('enter password again')\n",
        "  if password == '1234':\n",
        "    print('Welcome,finally!')\n",
        "  else:\n",
        "    print('beta tumse na ho paayega!')\n",
        "else:\n",
        "  print('Not correct')"
      ],
      "metadata": {
        "id": "dGz-83pN7oxe",
        "colab": {
          "base_uri": "https://localhost:8080/"
        },
        "outputId": "00ff4c7b-9dbe-4a06-aab1-de94b4b0b509"
      },
      "execution_count": 1,
      "outputs": [
        {
          "output_type": "stream",
          "name": "stdout",
          "text": [
            "enter emailshubh@gmail.com\n",
            "enter password1234\n",
            "Welcome\n"
          ]
        }
      ]
    },
    {
      "cell_type": "code",
      "source": [
        "# if-else examples\n",
        "# 1. Find the min of 3 given numbers\n",
        "# 2. Menu Driven Program"
      ],
      "metadata": {
        "id": "qo_1tY2ABlAX"
      },
      "execution_count": null,
      "outputs": []
    },
    {
      "cell_type": "code",
      "source": [
        "# min of 3 number\n",
        "\n",
        "a = int(input('first num'))\n",
        "b = int(input('second num'))\n",
        "c = int(input('third num'))\n",
        "\n",
        "if a<b and a<c:\n",
        "  print('smallest is',a)\n",
        "elif b<c:\n",
        "  print('smallest is',b)\n",
        "else:\n",
        "  print('smallest is',c)"
      ],
      "metadata": {
        "colab": {
          "base_uri": "https://localhost:8080/"
        },
        "id": "gQpTJbMH3W6_",
        "outputId": "3a2ff0d1-a8d2-4b41-eb50-49612c57b612"
      },
      "execution_count": null,
      "outputs": [
        {
          "output_type": "stream",
          "name": "stdout",
          "text": [
            "first num4\n",
            "second num1\n",
            "third num10\n",
            "smallest is 1\n"
          ]
        }
      ]
    },
    {
      "cell_type": "code",
      "source": [
        "# menu driven calculator\n",
        "num1=int(input(\"ENTER FIRST NUMBER\"))\n",
        "num2=int(input(\"ENTER SECOND NUMBER\"))\n",
        "\n",
        "operator = input(\"ENTER YOUR OPERATOR\")\n",
        "\n",
        "if operator == '+':\n",
        "  print(num1+num2)\n",
        "elif operator == '-':\n",
        "  print(num1-num2)\n",
        "elif operator == '*':\n",
        "  print(num1*num2)\n",
        "elif operator == '/':\n",
        "  print(num1/num2)\n",
        "\n",
        "else:\n",
        "  print(\"INVALID OPERATOR\")"
      ],
      "metadata": {
        "id": "X7Z5gH6NLnR_",
        "outputId": "4da02016-6b34-44d5-9e1c-1db5367a1d90",
        "colab": {
          "base_uri": "https://localhost:8080/"
        }
      },
      "execution_count": 3,
      "outputs": [
        {
          "output_type": "stream",
          "name": "stdout",
          "text": [
            "ENTER FIRST NUMBER43\n",
            "ENTER SECOND NUMBER34\n",
            "ENTER YOUR OPERATOR/\n",
            "1.2647058823529411\n"
          ]
        }
      ]
    },
    {
      "cell_type": "code",
      "source": [
        "\n",
        "menu = input(\"\"\"\n",
        "Hi! how can I help you.\n",
        "1. Enter 1 for pin change\n",
        "2. Enter 2 for balance check\n",
        "3. Enter 3 for withdrawl\n",
        "4. Enter 4 for exit\n",
        "\"\"\")\n",
        "\n",
        "if menu == '1':\n",
        "  print('pin change')\n",
        "elif menu == '2':\n",
        "  print('balance')\n",
        "elif menu == '3':\n",
        "  print('withdraw')\n",
        "\n",
        "else:\n",
        "  print('exit')"
      ],
      "metadata": {
        "colab": {
          "base_uri": "https://localhost:8080/"
        },
        "id": "hgNqlC5C4jqF",
        "outputId": "d9a4e001-985d-46fe-fdf4-2767dde7d340"
      },
      "execution_count": null,
      "outputs": [
        {
          "output_type": "stream",
          "name": "stdout",
          "text": [
            "\n",
            "Hi! how can I help you.\n",
            "1. Enter 1 for pin change\n",
            "2. Enter 2 for balance check\n",
            "3. Enter 3 for withdrawl\n",
            "4. Enter 4 for exit\n",
            "2\n",
            "balance\n"
          ]
        }
      ]
    },
    {
      "cell_type": "markdown",
      "source": [
        "## Modules in Python\n",
        "\n",
        "- math\n",
        "- keywords\n",
        "- random\n",
        "- datetime"
      ],
      "metadata": {
        "id": "532_6mva8A6C"
      }
    },
    {
      "cell_type": "code",
      "source": [
        "# math\n",
        "import math\n",
        "\n",
        "math.sqrt(196)"
      ],
      "metadata": {
        "id": "x5VXt7wv8G4o",
        "colab": {
          "base_uri": "https://localhost:8080/"
        },
        "outputId": "0f191ca5-e4c3-4c79-ecf2-dcbd23cbd770"
      },
      "execution_count": null,
      "outputs": [
        {
          "output_type": "execute_result",
          "data": {
            "text/plain": [
              "14.0"
            ]
          },
          "metadata": {},
          "execution_count": 61
        }
      ]
    },
    {
      "cell_type": "code",
      "source": [
        "# keyword\n",
        "import keyword\n",
        "print(keyword.kwlist)"
      ],
      "metadata": {
        "id": "FLgAX9pz8HBT",
        "colab": {
          "base_uri": "https://localhost:8080/"
        },
        "outputId": "63de6b39-b796-475b-9b7d-fa22f2019c90"
      },
      "execution_count": null,
      "outputs": [
        {
          "output_type": "stream",
          "name": "stdout",
          "text": [
            "['False', 'None', 'True', 'and', 'as', 'assert', 'async', 'await', 'break', 'class', 'continue', 'def', 'del', 'elif', 'else', 'except', 'finally', 'for', 'from', 'global', 'if', 'import', 'in', 'is', 'lambda', 'nonlocal', 'not', 'or', 'pass', 'raise', 'return', 'try', 'while', 'with', 'yield']\n"
          ]
        }
      ]
    },
    {
      "cell_type": "code",
      "source": [
        "# random\n",
        "import random\n",
        "print(random.randint(1,100))"
      ],
      "metadata": {
        "id": "R0dWpe-w8HSZ",
        "colab": {
          "base_uri": "https://localhost:8080/"
        },
        "outputId": "14b9bd28-6404-40a6-ffa5-ee770a187904"
      },
      "execution_count": 34,
      "outputs": [
        {
          "output_type": "stream",
          "name": "stdout",
          "text": [
            "6\n"
          ]
        }
      ]
    },
    {
      "cell_type": "code",
      "source": [
        "# datetime\n",
        "import datetime\n",
        "print(datetime.datetime.now())"
      ],
      "metadata": {
        "colab": {
          "base_uri": "https://localhost:8080/"
        },
        "id": "XNHWXsM0iFn3",
        "outputId": "92b56f47-1ed1-4201-b585-7ba243864a80"
      },
      "execution_count": 26,
      "outputs": [
        {
          "output_type": "stream",
          "name": "stdout",
          "text": [
            "2025-05-26 06:07:11.734898\n"
          ]
        }
      ]
    },
    {
      "cell_type": "code",
      "source": [
        "help('modules')"
      ],
      "metadata": {
        "colab": {
          "base_uri": "https://localhost:8080/"
        },
        "id": "ePMxrlzX8CsQ",
        "outputId": "719443f9-8cb6-48fc-9a02-dee02625fc8f"
      },
      "execution_count": null,
      "outputs": [
        {
          "output_type": "stream",
          "name": "stdout",
          "text": [
            "\n",
            "Please wait a moment while I gather a list of all available modules...\n",
            "\n"
          ]
        },
        {
          "output_type": "stream",
          "name": "stderr",
          "text": [
            "/usr/local/lib/python3.7/dist-packages/caffe2/proto/__init__.py:17: UserWarning: Caffe2 support is not enabled in this PyTorch build. Please enable Caffe2 by building PyTorch from source with `BUILD_CAFFE2=1` flag.\n",
            "/usr/local/lib/python3.7/dist-packages/caffe2/proto/__init__.py:17: UserWarning: Caffe2 support is not enabled in this PyTorch build. Please enable Caffe2 by building PyTorch from source with `BUILD_CAFFE2=1` flag.\n",
            "/usr/local/lib/python3.7/dist-packages/caffe2/python/__init__.py:9: UserWarning: Caffe2 support is not enabled in this PyTorch build. Please enable Caffe2 by building PyTorch from source with `BUILD_CAFFE2=1` flag.\n"
          ]
        },
        {
          "output_type": "stream",
          "name": "stdout",
          "text": [
            "Cython              collections         kaggle              requests_oauthlib\n",
            "IPython             colorcet            kanren              resampy\n",
            "OpenGL              colorlover          kapre               resource\n",
            "PIL                 colorsys            keras               rlcompleter\n",
            "ScreenResolution    community           keras_preprocessing rmagic\n",
            "__future__          compileall          keyword             rpy2\n",
            "_abc                concurrent          kiwisolver          rsa\n",
            "_ast                confection          korean_lunar_calendar runpy\n",
            "_asyncio            configparser        langcodes           samples\n",
            "_bisect             cons                lib2to3             sched\n",
            "_blake2             contextlib          libfuturize         scipy\n",
            "_bootlocale         contextlib2         libpasteurize       scs\n",
            "_bz2                contextvars         librosa             seaborn\n",
            "_cffi_backend       convertdate         lightgbm            secrets\n",
            "_codecs             copy                linecache           select\n",
            "_codecs_cn          copyreg             llvmlite            selectors\n",
            "_codecs_hk          crashtest           lmdb                send2trash\n",
            "_codecs_iso2022     crcmod              locale              setuptools\n",
            "_codecs_jp          crypt               locket              setuptools_git\n",
            "_codecs_kr          csimdjson           logging             shapely\n",
            "_codecs_tw          csv                 lsb_release         shelve\n",
            "_collections        ctypes              lunarcalendar       shlex\n",
            "_collections_abc    cufflinks           lxml                shutil\n",
            "_compat_pickle      curses              lzma                signal\n",
            "_compression        cv2                 macpath             simdjson\n",
            "_contextvars        cvxopt              mailbox             site\n",
            "_crypt              cvxpy               mailcap             sitecustomize\n",
            "_csv                cycler              markdown            six\n",
            "_ctypes             cymem               markupsafe          skimage\n",
            "_ctypes_test        cython              marshal             sklearn\n",
            "_curses             cythonmagic         marshmallow         sklearn_pandas\n",
            "_curses_panel       daft                math                slugify\n",
            "_cvxcore            dask                matplotlib          smart_open\n",
            "_datetime           dataclasses         matplotlib_venn     smtpd\n",
            "_dbm                datascience         mimetypes           smtplib\n",
            "_decimal            datetime            missingno           sndhdr\n",
            "_distutils_hack     dateutil            mistune             snowballstemmer\n",
            "_dlib_pybind11      dbm                 mizani              socket\n",
            "_dummy_thread       dbus                mlxtend             socketserver\n",
            "_ecos               debugpy             mmap                socks\n",
            "_elementtree        decimal             modulefinder        sockshandler\n",
            "_functools          decorator           more_itertools      softwareproperties\n",
            "_hashlib            defusedxml          moviepy             sortedcontainers\n",
            "_heapq              descartes           mpmath              soundfile\n",
            "_imp                difflib             msgpack             spacy\n",
            "_io                 dill                multidict           spacy_legacy\n",
            "_json               dis                 multipledispatch    spacy_loggers\n",
            "_locale             distributed         multiprocessing     sphinx\n",
            "_lsprof             distutils           multitasking        spwd\n",
            "_lzma               dlib                murmurhash          sql\n",
            "_markupbase         dns                 music21             sqlalchemy\n",
            "_md5                docs                natsort             sqlite3\n",
            "_multibytecodec     doctest             nbconvert           sqlparse\n",
            "_multiprocessing    docutils            nbformat            sre_compile\n",
            "_opcode             dopamine            netCDF4             sre_constants\n",
            "_operator           dot_parser          netrc               sre_parse\n",
            "_osx_support        dummy_threading     networkx            srsly\n",
            "_pickle             easydict            nibabel             ssl\n",
            "_plotly_future_     ecos                nis                 stan\n",
            "_plotly_utils       editdistance        nisext              stat\n",
            "_posixsubprocess    ee                  nltk                statistics\n",
            "_py_abc             email               nntplib             statsmodels\n",
            "_pydecimal          en_core_web_sm      notebook            storemagic\n",
            "_pyio               encodings           ntpath              string\n",
            "_pyrsistent_version entrypoints         nturl2path          stringprep\n",
            "_pytest             enum                numba               struct\n",
            "_queue              ephem               numbergen           subprocess\n",
            "_random             erfa                numbers             sunau\n",
            "_remote_module_non_scriptable errno               numexpr             symbol\n",
            "_rinterface_cffi_abi et_xmlfile          numpy               sympy\n",
            "_rinterface_cffi_api etils               oauth2client        sympyprinting\n",
            "_scs_direct         etuples             oauthlib            symtable\n",
            "_scs_indirect       fa2                 ogr                 sys\n",
            "_sha1               fastai              okgrade             sysconfig\n",
            "_sha256             fastcore            opcode              syslog\n",
            "_sha3               fastdownload        openpyxl            tables\n",
            "_sha512             fastdtw             operator            tabnanny\n",
            "_signal             fastjsonschema      opt_einsum          tabulate\n",
            "_sitebuiltins       fastprogress        optparse            tarfile\n",
            "_socket             fastrlock           os                  tblib\n",
            "_soundfile          faulthandler        osgeo               telnetlib\n",
            "_sqlite3            fcntl               osqp                tempfile\n",
            "_sre                feather             osqppurepy          tenacity\n",
            "_ssl                filecmp             osr                 tensorboard\n",
            "_stat               fileinput           ossaudiodev         tensorboard_data_server\n",
            "_string             filelock            packaging           tensorboard_plugin_wit\n",
            "_strptime           firebase_admin      palettable          tensorflow\n",
            "_struct             fix_yahoo_finance   pandas              tensorflow_datasets\n",
            "_symtable           flask               pandas_datareader   tensorflow_estimator\n",
            "_sysconfigdata_m_linux_x86_64-linux-gnu flatbuffers         pandas_gbq          tensorflow_gcs_config\n",
            "_sysconfigdata_m_x86_64-linux-gnu fnmatch             pandas_profiling    tensorflow_hub\n",
            "_testbuffer         folium              pandocfilters       tensorflow_io_gcs_filesystem\n",
            "_testcapi           formatter           panel               tensorflow_metadata\n",
            "_testimportmultiple fractions           param               tensorflow_probability\n",
            "_testmultiphase     frozenlist          parser              termcolor\n",
            "_thread             fsspec              parso               terminado\n",
            "_threading_local    ftplib              partd               termios\n",
            "_tkinter            functools           past                test\n",
            "_tracemalloc        future              pasta               testpath\n",
            "_warnings           gast                pastel              tests\n",
            "_weakref            gc                  pathlib             text_unidecode\n",
            "_weakrefset         gdal                pathy               textblob\n",
            "_xxtestfuzz         gdalconst           patsy               textwrap\n",
            "_yaml               gdalnumeric         pdb                 thinc\n",
            "abc                 gdown               pep517              this\n",
            "absl                genericpath         pexpect             threading\n",
            "aeppl               gensim              pickle              threadpoolctl\n",
            "aesara              geographiclib       pickleshare         tifffile\n",
            "aifc                geopy               pickletools         time\n",
            "aiohttp             getopt              pip                 timeit\n",
            "aiosignal           getpass             pipes               tkinter\n",
            "alabaster           gettext             piptools            tlz\n",
            "albumentations      gi                  pkg_resources       token\n",
            "altair              gin                 pkgutil             tokenize\n",
            "antigravity         glob                platform            toml\n",
            "apiclient           glob2               plistlib            tomli\n",
            "appdirs             gnm                 plotly              toolz\n",
            "apt                 google_auth_httplib2 plotlywidget        torch\n",
            "apt_inst            google_auth_oauthlib plotnine            torchaudio\n",
            "apt_pkg             google_drive_downloader pluggy              torchgen\n",
            "aptsources          googleapiclient     pooch               torchsummary\n",
            "argparse            googlesearch        poplib              torchtext\n",
            "array               graphviz            portpicker          torchvision\n",
            "arviz               greenlet            posix               tornado\n",
            "ast                 gridfs              posixpath           tqdm\n",
            "astor               grp                 pprint              trace\n",
            "astropy             grpc                prefetch_generator  traceback\n",
            "astunparse          gspread             preshed             tracemalloc\n",
            "async_timeout       gspread_dataframe   prettytable         traitlets\n",
            "asynchat            gym                 profile             tree\n",
            "asyncio             gym_notices         progressbar         tty\n",
            "asyncore            gzip                promise             turtle\n",
            "asynctest           h5py                prompt_toolkit      tweepy\n",
            "atari_py            hashlib             prophet             typeguard\n",
            "atexit              heapdict            pstats              typer\n",
            "atomicwrites        heapq               psutil              types\n",
            "attr                hijri_converter     psycopg2            typing\n",
            "attrs               hmac                pty                 typing_extensions\n",
            "audioop             holidays            ptyprocess          tzlocal\n",
            "audioread           holoviews           pvectorc            unicodedata\n",
            "autograd            html                pwd                 unification\n",
            "autoreload          html5lib            py                  unittest\n",
            "babel               http                py_compile          uritemplate\n",
            "backcall            httpimport          pyarrow             urllib\n",
            "base64              httplib2            pyasn1              urllib3\n",
            "bdb                 httplib2shim        pyasn1_modules      uu\n",
            "bin                 httpstan            pyclbr              uuid\n",
            "binascii            humanize            pycocotools         vega_datasets\n",
            "binhex              hyperopt            pycparser           venv\n",
            "bisect              idna                pyct                vis\n",
            "bleach              imageio             pydantic            warnings\n",
            "blis                imagesize           pydata_google_auth  wasabi\n",
            "bokeh               imaplib             pydoc               wave\n",
            "boost               imblearn            pydoc_data          wcwidth\n",
            "branca              imgaug              pydot               weakref\n",
            "bs4                 imghdr              pydot_ng            webargs\n",
            "bson                imp                 pydotplus           webbrowser\n",
            "builtins            importlib           pydrive             webencodings\n",
            "bz2                 importlib_metadata  pyemd               werkzeug\n",
            "cProfile            importlib_resources pyexpat             wheel\n",
            "cachecontrol        imutils             pygments            widgetsnbextension\n",
            "cached_property     inflect             pygtkcompat         wordcloud\n",
            "cachetools          inspect             pylab               wrapt\n",
            "caffe2              intervaltree        pylev               wsgiref\n",
            "calendar            io                  pymc                xarray\n",
            "catalogue           ipaddress           pymeeus             xarray_einstats\n",
            "certifi             ipykernel           pymongo             xdrlib\n",
            "cffi                ipykernel_launcher  pymystem3           xgboost\n",
            "cftime              ipython_genutils    pyparsing           xkit\n",
            "cgi                 ipywidgets          pyrsistent          xlrd\n",
            "cgitb               isympy              pysndfile           xlwt\n",
            "chardet             itertools           pytest              xml\n",
            "charset_normalizer  itsdangerous        python_utils        xmlrpc\n",
            "chunk               jax                 pytz                xxlimited\n",
            "clang               jaxlib              pyviz_comms         xxsubtype\n",
            "click               jieba               pywt                yaml\n",
            "client              jinja2              pyximport           yarl\n",
            "clikit              joblib              qdldl               yellowbrick\n",
            "cloudpickle         jpeg4py             qudida              zict\n",
            "cmake               json                queue               zipapp\n",
            "cmath               jsonschema          quopri              zipfile\n",
            "cmd                 jupyter             random              zipimport\n",
            "cmdstanpy           jupyter_client      re                  zipp\n",
            "code                jupyter_console     readline            zlib\n",
            "codecs              jupyter_core        regex               zmq\n",
            "codeop              jupyterlab_plotly   reprlib             \n",
            "colab               jupyterlab_widgets  requests            \n",
            "\n",
            "Enter any module name to get more help.  Or, type \"modules spam\" to search\n",
            "for modules whose name or summary contain the string \"spam\".\n",
            "\n"
          ]
        }
      ]
    },
    {
      "cell_type": "markdown",
      "source": [
        "## Loops in Python\n",
        "\n",
        "- Need for loops\n",
        "- While Loop\n",
        "- For Loop"
      ],
      "metadata": {
        "id": "2Ow6_gWG7ukc"
      }
    },
    {
      "cell_type": "code",
      "source": [
        "# While loop example -> program to print the table\n",
        "# Program -> Sum of all digits of a given number\n",
        "# Program -> keep accepting numbers from users till he/she enters a 0 and then find the avg"
      ],
      "metadata": {
        "id": "Ig7NIb7L7txg"
      },
      "execution_count": null,
      "outputs": []
    },
    {
      "cell_type": "code",
      "source": [
        "number = int(input('enter the number'))\n",
        "\n",
        "i = 1\n",
        "\n",
        "while i<11:\n",
        "  print(number,'*',i,'=',number*i)\n",
        "  i += 1"
      ],
      "metadata": {
        "colab": {
          "base_uri": "https://localhost:8080/"
        },
        "id": "brWSxgiu9rrQ",
        "outputId": "2b960ef2-7ed8-43e2-9b3b-acaa41232681"
      },
      "execution_count": 38,
      "outputs": [
        {
          "output_type": "stream",
          "name": "stdout",
          "text": [
            "enter the number3\n",
            "3 * 1 = 3\n",
            "3 * 2 = 6\n",
            "3 * 3 = 9\n",
            "3 * 4 = 12\n",
            "3 * 5 = 15\n",
            "3 * 6 = 18\n",
            "3 * 7 = 21\n",
            "3 * 8 = 24\n",
            "3 * 9 = 27\n",
            "3 * 10 = 30\n"
          ]
        }
      ]
    },
    {
      "cell_type": "code",
      "source": [
        "# while loop with else\n",
        "\n",
        "x = 1\n",
        "\n",
        "while x < 3:\n",
        "  print(x)\n",
        "  x += 1\n",
        "\n",
        "else:\n",
        "  print('limit crossed')"
      ],
      "metadata": {
        "id": "Ltsr9n3H73fp",
        "colab": {
          "base_uri": "https://localhost:8080/"
        },
        "outputId": "a47f2a11-bf75-4a0a-923c-49f318514900"
      },
      "execution_count": null,
      "outputs": [
        {
          "output_type": "stream",
          "name": "stdout",
          "text": [
            "1\n",
            "2\n",
            "limit crossed\n"
          ]
        }
      ]
    },
    {
      "cell_type": "code",
      "source": [
        "# Guessing game\n",
        "\n",
        "# generate a random integer between 1 and 100\n",
        "import random\n",
        "jackpot = random.randint(1,100)\n",
        "\n",
        "guess = int(input('guess karo'))\n",
        "counter=1\n",
        "\n",
        "while guess!=jackpot:\n",
        "  counter+=1\n",
        "  if guess>jackpot:\n",
        "    guess = int(input('galat! guess lower'))\n",
        "  elif guess<jackpot:\n",
        "    guess = int(input('galat! guess higher'))\n",
        "else:\n",
        "  print(\"u guessed it right\")\n",
        "  print(f\"attempts : {counter}\")"
      ],
      "metadata": {
        "id": "29y5r2cr8MRP",
        "colab": {
          "base_uri": "https://localhost:8080/"
        },
        "outputId": "e8344e20-f140-4d7b-9aaf-9b47efd286b0"
      },
      "execution_count": 4,
      "outputs": [
        {
          "output_type": "stream",
          "name": "stdout",
          "text": [
            "guess karo5\n",
            "galat! guess higher10\n",
            "galat! guess higher40\n",
            "galat! guess lower30\n",
            "u guessed it right\n",
            "attempts : 4\n"
          ]
        }
      ]
    },
    {
      "cell_type": "code",
      "source": [
        "# For loop demo\n",
        "\n",
        "for i in {1,2,3,4,5}:\n",
        "  print(i)"
      ],
      "metadata": {
        "id": "bjjx0fMr8SWh",
        "colab": {
          "base_uri": "https://localhost:8080/"
        },
        "outputId": "a3bf4676-a68c-499f-fc00-e0fe0f04285b"
      },
      "execution_count": null,
      "outputs": [
        {
          "output_type": "stream",
          "name": "stdout",
          "text": [
            "1\n",
            "2\n",
            "3\n",
            "4\n",
            "5\n"
          ]
        }
      ]
    },
    {
      "cell_type": "code",
      "source": [
        "# For loop examples"
      ],
      "metadata": {
        "id": "5ZLWEyFn8g1R"
      },
      "execution_count": null,
      "outputs": []
    },
    {
      "cell_type": "markdown",
      "source": [
        "### Program - The current population of a town is 10000. The population of the town is increasing at the rate of 10% per year. You have to write a program to find out the population at the end of each of the last 10 years."
      ],
      "metadata": {
        "id": "EXnzCtohWx2V"
      }
    },
    {
      "cell_type": "code",
      "source": [
        "# Correct Answer of above question:\n",
        "curr_pop = 10000\n",
        "\n",
        "for i in range(10,0,-1):\n",
        "  print(i,curr_pop)\n",
        "  curr_pop /= 1.1\n"
      ],
      "metadata": {
        "id": "TPXkdE9hI7dm",
        "outputId": "263babd3-dd64-46b5-a3be-25623fc59d5a",
        "colab": {
          "base_uri": "https://localhost:8080/"
        }
      },
      "execution_count": 12,
      "outputs": [
        {
          "output_type": "stream",
          "name": "stdout",
          "text": [
            "10 10000\n",
            "9 9090.90909090909\n",
            "8 8264.462809917353\n",
            "7 7513.148009015775\n",
            "6 6830.134553650703\n",
            "5 6209.213230591548\n",
            "4 5644.739300537771\n",
            "3 5131.5811823070635\n",
            "2 4665.07380209733\n",
            "1 4240.976183724845\n"
          ]
        }
      ]
    },
    {
      "cell_type": "markdown",
      "source": [
        "#### Explanation :\n",
        "\n",
        "\n",
        "\n",
        "To calculate the population for each year with a 10% increase, you can use a simpler equation based on the previous year's population. Let's assume the population of the previous year is represented by variable x.\n",
        "\n",
        "The equation can be written as:\n",
        "\n",
        "> Current Year Population = x * 1.1\n",
        "\n",
        "In this equation, the current year's population is equal to the previous year's population multiplied by 1.1, representing a 10% increase.\n",
        "\n",
        "To find the population of the previous year (x), we can rearrange the equation as follows:\n",
        "\n",
        "> x = Current Year Population / 1.1\n",
        "\n",
        "Using this simplified equation, if you have the current year's population (e.g., 10,000), you can divide it by 1.1 to calculate the population of the previous year.\n",
        "\n",
        "This equation allows you to calculate the population for each year, assuming you know the population of the current year and want to find the population of the previous year."
      ],
      "metadata": {
        "id": "kB-F1EYdJ-XU"
      }
    }
  ]
}