{
  "nbformat": 4,
  "nbformat_minor": 0,
  "metadata": {
    "colab": {
      "provenance": []
    },
    "kernelspec": {
      "name": "python3",
      "display_name": "Python 3"
    },
    "language_info": {
      "name": "python"
    }
  },
  "cells": [
    {
      "cell_type": "code",
      "execution_count": null,
      "metadata": {
        "colab": {
          "base_uri": "https://localhost:8080/",
          "height": 205
        },
        "id": "3rwuRliDnX7y",
        "outputId": "6115092b-d6f7-4ef3-91fc-4d46ca119b09"
      },
      "outputs": [
        {
          "output_type": "error",
          "ename": "AttributeError",
          "evalue": "ignored",
          "traceback": [
            "\u001b[0;31m---------------------------------------------------------------------------\u001b[0m",
            "\u001b[0;31mAttributeError\u001b[0m                            Traceback (most recent call last)",
            "\u001b[0;32m<ipython-input-1-af1f83522ab7>\u001b[0m in \u001b[0;36m<module>\u001b[0;34m\u001b[0m\n\u001b[1;32m      1\u001b[0m \u001b[0mL\u001b[0m \u001b[0;34m=\u001b[0m \u001b[0;34m[\u001b[0m\u001b[0;36m1\u001b[0m\u001b[0;34m,\u001b[0m\u001b[0;36m2\u001b[0m\u001b[0;34m,\u001b[0m\u001b[0;36m3\u001b[0m\u001b[0;34m]\u001b[0m\u001b[0;34m\u001b[0m\u001b[0;34m\u001b[0m\u001b[0m\n\u001b[1;32m      2\u001b[0m \u001b[0;34m\u001b[0m\u001b[0m\n\u001b[0;32m----> 3\u001b[0;31m \u001b[0mL\u001b[0m\u001b[0;34m.\u001b[0m\u001b[0mupper\u001b[0m\u001b[0;34m(\u001b[0m\u001b[0;34m)\u001b[0m\u001b[0;34m\u001b[0m\u001b[0;34m\u001b[0m\u001b[0m\n\u001b[0m",
            "\u001b[0;31mAttributeError\u001b[0m: 'list' object has no attribute 'upper'"
          ]
        }
      ],
      "source": [
        "L = [1,2,3]\n",
        "\n",
        "L.upper()"
      ]
    },
    {
      "cell_type": "code",
      "source": [
        "s = 'hello'\n",
        "s.append('x')"
      ],
      "metadata": {
        "colab": {
          "base_uri": "https://localhost:8080/",
          "height": 187
        },
        "id": "96Kwr6nLnyDM",
        "outputId": "9845bb6f-e342-4054-d1ca-bb790b8da96d"
      },
      "execution_count": null,
      "outputs": [
        {
          "output_type": "error",
          "ename": "AttributeError",
          "evalue": "ignored",
          "traceback": [
            "\u001b[0;31m---------------------------------------------------------------------------\u001b[0m",
            "\u001b[0;31mAttributeError\u001b[0m                            Traceback (most recent call last)",
            "\u001b[0;32m<ipython-input-2-2cb7c5babec0>\u001b[0m in \u001b[0;36m<module>\u001b[0;34m\u001b[0m\n\u001b[1;32m      1\u001b[0m \u001b[0ms\u001b[0m \u001b[0;34m=\u001b[0m \u001b[0;34m'hello'\u001b[0m\u001b[0;34m\u001b[0m\u001b[0;34m\u001b[0m\u001b[0m\n\u001b[0;32m----> 2\u001b[0;31m \u001b[0ms\u001b[0m\u001b[0;34m.\u001b[0m\u001b[0mappend\u001b[0m\u001b[0;34m(\u001b[0m\u001b[0;34m'x'\u001b[0m\u001b[0;34m)\u001b[0m\u001b[0;34m\u001b[0m\u001b[0;34m\u001b[0m\u001b[0m\n\u001b[0m",
            "\u001b[0;31mAttributeError\u001b[0m: 'str' object has no attribute 'append'"
          ]
        }
      ]
    },
    {
      "cell_type": "code",
      "source": [
        "L = [1,2,3]\n",
        "print(type(L))"
      ],
      "metadata": {
        "colab": {
          "base_uri": "https://localhost:8080/"
        },
        "id": "mmHow1wwn9TG",
        "outputId": "ab6a35e4-e395-4fe2-f9fb-b236eefc3526"
      },
      "execution_count": null,
      "outputs": [
        {
          "output_type": "stream",
          "name": "stdout",
          "text": [
            "<class 'list'>\n"
          ]
        }
      ]
    },
    {
      "cell_type": "code",
      "source": [
        "s = [1,2,3]"
      ],
      "metadata": {
        "id": "uYaUUd8uqh8G"
      },
      "execution_count": null,
      "outputs": []
    },
    {
      "cell_type": "code",
      "source": [
        "# syntax to create an object\n",
        "\n",
        "#objectname = classname()"
      ],
      "metadata": {
        "id": "UrQCJI-xqkyX"
      },
      "execution_count": null,
      "outputs": []
    },
    {
      "cell_type": "code",
      "source": [
        "# object literal\n",
        "L = [1,2,3]"
      ],
      "metadata": {
        "id": "BE1pbysesWlD"
      },
      "execution_count": null,
      "outputs": []
    },
    {
      "cell_type": "code",
      "source": [
        "L = list()\n",
        "L"
      ],
      "metadata": {
        "colab": {
          "base_uri": "https://localhost:8080/"
        },
        "id": "EuMPro8hsbB3",
        "outputId": "aad19e46-44ad-4b86-86b2-ded54a6a4a29"
      },
      "execution_count": null,
      "outputs": [
        {
          "output_type": "execute_result",
          "data": {
            "text/plain": [
              "[]"
            ]
          },
          "metadata": {},
          "execution_count": 7
        }
      ]
    },
    {
      "cell_type": "code",
      "source": [
        "s = str()\n",
        "s"
      ],
      "metadata": {
        "colab": {
          "base_uri": "https://localhost:8080/",
          "height": 36
        },
        "id": "F_pB8wsPsdA9",
        "outputId": "ca758fc3-330c-4ec4-bb4f-5863c7c03d7a"
      },
      "execution_count": null,
      "outputs": [
        {
          "output_type": "execute_result",
          "data": {
            "text/plain": [
              "''"
            ],
            "application/vnd.google.colaboratory.intrinsic+json": {
              "type": "string"
            }
          },
          "metadata": {},
          "execution_count": 8
        }
      ]
    },
    {
      "cell_type": "code",
      "source": [
        "# Pascal Case\n",
        "\n",
        "HelloWorld"
      ],
      "metadata": {
        "id": "ffVNGUBhtMrL"
      },
      "execution_count": null,
      "outputs": []
    },
    {
      "cell_type": "code",
      "source": [
        "class atm:\n",
        "  #constructor(special function)\n",
        "  def __init__ (self):\n",
        "    # print(id(Self))\n",
        "    self.pin=''     #just to initialize\n",
        "    self.balance=0\n",
        "    self.menu()\n",
        "  def menu(self):\n",
        "    user_input=input(\"\"\"\n",
        "    SELECT THE NUMBER CORRESPONDING TO THE TASK..\n",
        "    1.press 1 to create pin\n",
        "    2.press 2 to change pin\n",
        "    3.press 3 to check balance\n",
        "    4.press 4 to withdraw\n",
        "    5.anything else to exist\n",
        "    \"\"\")\n",
        "    if user_input=='1':\n",
        "      self.create_pin()\n",
        "    if user_input=='2':\n",
        "      self.change_pin()\n",
        "    if user_input=='1':\n",
        "      self.check_balance()\n",
        "    if user_input=='1':\n",
        "      self.withdraw()\n",
        "    else:\n",
        "      exit()\n",
        "\n",
        "    def create_pin(self):\n",
        "      self.pin=input(\"ENTER YOUR PIN\")\n",
        "      self.balance=int(input(\"ENTER INITAL BALANCE\"))\n",
        "      print(\"PIN CREATED SUCCESSFULLY\")\n",
        "      self.menu()\n",
        "\n",
        "    def change_pin(self):\n",
        "      old_pin=input(\"ENTER OLD PIN\")\n",
        "      if old_pin==self.pin:\n",
        "        self.pin=input(\"ENTER NEW PIN\")\n",
        "        print(\"PIN CHANGED SUCCESSFULLY\")\n",
        "        self.menu()\n",
        "      else:\n",
        "        print(\"WRONG PIN!\")\n",
        "        self.men()\n",
        "\n",
        "      def check_balance(self):\n",
        "        user_pin=input(\"ENTER YOUR PIN TO CHECK BALANCE\")\n",
        "        if user_pin==self.pin:\n",
        "          print(f\"YOUR BALANCE IS {self.balance}\")\n",
        "        else:\n",
        "          print(\"WRONG PIN\")\n",
        "          self.menu()\n",
        "\n",
        "      def withdraw(self):\n",
        "        user_pin=input(\"ENTER YOUR PIN\")\n",
        "        if user_pin==self.pin:\n",
        "          #allow to withdraw\n",
        "          amount=int(input(\"ENTER AMOUNT YOU WANT TO WITHDRAW\"))\n",
        "          if amount<=self.balance:\n",
        "            self.balance-=amount\n",
        "            print(f\"WITHDRAW SUCCESSFULL,YOUR CURRENT BALANCE IS {self.balance}\")\n",
        "          else:\n",
        "            print(\"BALANCE LIMIT ACCEDED\")\n",
        "        else:\n",
        "          print(\"WRONG PIN\")\n",
        "        self.menu()\n",
        "\n",
        "\n"
      ],
      "metadata": {
        "id": "76IAiCrBshyW"
      },
      "execution_count": null,
      "outputs": []
    },
    {
      "cell_type": "code",
      "source": [
        "obj1 = Atm()"
      ],
      "metadata": {
        "colab": {
          "base_uri": "https://localhost:8080/"
        },
        "id": "nT1VdlNauFYf",
        "outputId": "d17a5cd8-3947-492b-a733-819b9031fe66"
      },
      "execution_count": null,
      "outputs": [
        {
          "output_type": "stream",
          "name": "stdout",
          "text": [
            "132908873985168\n",
            "\n",
            "    Hi how can I help you?\n",
            "    1. Press 1 to create pin\n",
            "    2. Press 2 to change pin\n",
            "    3. Press 3 to check balance\n",
            "    4. Press 4 to withdraw\n",
            "    5. Anything else to exit\n",
            "    1\n",
            "enter your pin7480\n",
            "enter balance7000\n",
            "pin created successfully\n",
            "\n",
            "    Hi how can I help you?\n",
            "    1. Press 1 to create pin\n",
            "    2. Press 2 to change pin\n",
            "    3. Press 3 to check balance\n",
            "    4. Press 4 to withdraw\n",
            "    5. Anything else to exit\n",
            "    2\n",
            "enter old pin7480\n",
            "enter new pin75880\n",
            "pin change successful\n",
            "\n",
            "    Hi how can I help you?\n",
            "    1. Press 1 to create pin\n",
            "    2. Press 2 to change pin\n",
            "    3. Press 3 to check balance\n",
            "    4. Press 4 to withdraw\n",
            "    5. Anything else to exit\n",
            "    3\n",
            "enter your pin75880\n",
            "your balance is  7000\n"
          ]
        }
      ]
    },
    {
      "cell_type": "code",
      "source": [
        "id(obj1)"
      ],
      "metadata": {
        "colab": {
          "base_uri": "https://localhost:8080/"
        },
        "id": "zfF7WE1LuWzp",
        "outputId": "dc720059-b16b-4d1a-9b07-dff807a19ccd"
      },
      "execution_count": null,
      "outputs": [
        {
          "output_type": "execute_result",
          "data": {
            "text/plain": [
              "140289660099024"
            ]
          },
          "metadata": {},
          "execution_count": 9
        }
      ]
    },
    {
      "cell_type": "code",
      "source": [
        "obj2 = Atm()"
      ],
      "metadata": {
        "id": "NHJEFG6CuY1v"
      },
      "execution_count": null,
      "outputs": []
    },
    {
      "cell_type": "code",
      "source": [
        "id(obj2)"
      ],
      "metadata": {
        "colab": {
          "base_uri": "https://localhost:8080/"
        },
        "id": "2RmYPjp0-m5F",
        "outputId": "3c55ae5b-fea6-42b1-eb88-abd54c925aaf"
      },
      "execution_count": null,
      "outputs": [
        {
          "output_type": "execute_result",
          "data": {
            "text/plain": [
              "140289660586384"
            ]
          },
          "metadata": {},
          "execution_count": 11
        }
      ]
    },
    {
      "cell_type": "code",
      "source": [
        "L = [1,2,3]\n",
        "len(L) # function ->bcos it is outside the list class\n",
        "L.append()# method -> bcos it is inside the list class"
      ],
      "metadata": {
        "id": "qMYm7tYJv_s2"
      },
      "execution_count": null,
      "outputs": []
    },
    {
      "cell_type": "code",
      "source": [
        "class Temp:\n",
        "\n",
        "  def __init__(self):\n",
        "    print('hello')\n",
        "\n",
        "obj = Temp()"
      ],
      "metadata": {
        "colab": {
          "base_uri": "https://localhost:8080/"
        },
        "id": "FT63LIRB4YQM",
        "outputId": "64520926-5f6c-4491-e71d-83b1f63b4cd3"
      },
      "execution_count": null,
      "outputs": [
        {
          "output_type": "stream",
          "name": "stdout",
          "text": [
            "hello\n"
          ]
        }
      ]
    },
    {
      "cell_type": "code",
      "source": [
        "3/4*1/2"
      ],
      "metadata": {
        "id": "w52ABPIX4dbv"
      },
      "execution_count": null,
      "outputs": []
    },
    {
      "cell_type": "code",
      "source": [
        "class Fraction:\n",
        "\n",
        "  #parameterized constructor\n",
        "  def __init__(self,x,y):\n",
        "    self.num=x\n",
        "    self.den=y\n",
        "\n",
        "  def __str__(self):\n",
        "    return (f\"{self.num}/{self.den}\")\n",
        "\n",
        "  def __add__(self,other):\n",
        "    new_num= self.num*other.den + other.num*self.den\n",
        "    new_den = self.den*other.den\n",
        "    return (f\"{new_num}/{new_den}\")\n",
        "\n",
        "  def __sub__(self,other):\n",
        "    new_num= self.num*other.den - other.num*self.den\n",
        "    new_den = self.den*other.den\n",
        "    return (f\"{new_num}/{new_den}\")\n",
        "\n",
        "  def __mul__(self,other):\n",
        "    new_num= self.num*other.num\n",
        "    new_den = self.den*other.den\n",
        "    return (f\"{new_num}/{new_den}\")\n",
        "\n",
        "  def __truediv__(self,other):\n",
        "    new_num= self.num*other.den\n",
        "    new_den = self.den*other.num\n",
        "    return (f\"{new_num}/{new_den}\")\n",
        "\n",
        "  def convert_to_decimal(self):\n",
        "    return self.num / self.den\n",
        "\n",
        "\n",
        "\n",
        "\n",
        "\n"
      ],
      "metadata": {
        "id": "Q19W8x5Y-KHv"
      },
      "execution_count": 49,
      "outputs": []
    },
    {
      "cell_type": "code",
      "source": [
        "fr1 = Fraction(3,4)\n",
        "fr1.convert_to_decimal()"
      ],
      "metadata": {
        "colab": {
          "base_uri": "https://localhost:8080/"
        },
        "id": "_GDlgLtunWfZ",
        "outputId": "62624128-50af-4d38-d8c0-12a2c3a02431"
      },
      "execution_count": 54,
      "outputs": [
        {
          "output_type": "execute_result",
          "data": {
            "text/plain": [
              "0.75"
            ]
          },
          "metadata": {},
          "execution_count": 54
        }
      ]
    },
    {
      "cell_type": "code",
      "source": [
        "fr1 = Fraction(3,4)\n",
        "fr2 = Fraction(1,2)"
      ],
      "metadata": {
        "id": "CpmYQ8mm_N1X"
      },
      "execution_count": 55,
      "outputs": []
    },
    {
      "cell_type": "code",
      "source": [
        "print(fr1)\n",
        "print(fr2)"
      ],
      "metadata": {
        "colab": {
          "base_uri": "https://localhost:8080/"
        },
        "id": "-DW3uyJq_XAa",
        "outputId": "02cf55cb-2a83-4a4f-cb18-f75b03f68061"
      },
      "execution_count": 56,
      "outputs": [
        {
          "output_type": "stream",
          "name": "stdout",
          "text": [
            "3/4\n",
            "1/2\n"
          ]
        }
      ]
    },
    {
      "cell_type": "code",
      "source": [
        "print(fr1 + fr2)\n",
        "print(fr1 - fr2)\n",
        "print(fr1 * fr2)\n",
        "print(fr1 / fr2)"
      ],
      "metadata": {
        "colab": {
          "base_uri": "https://localhost:8080/"
        },
        "id": "TkfFpVlj_hdf",
        "outputId": "713cd236-322c-4305-b6f3-ee4403b11a69"
      },
      "execution_count": 40,
      "outputs": [
        {
          "output_type": "stream",
          "name": "stdout",
          "text": [
            "10/8\n",
            "2/8\n",
            "3/8\n",
            "6/4\n"
          ]
        }
      ]
    }
  ]
}